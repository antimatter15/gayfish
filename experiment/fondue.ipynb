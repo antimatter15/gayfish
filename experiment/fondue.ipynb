{
 "cells": [
  {
   "cell_type": "code",
   "execution_count": 6,
   "metadata": {
    "collapsed": false
   },
   "outputs": [
    {
     "data": {
      "text/html": [
       "<pre>undefined</pre>"
      ],
      "text/plain": [
       "undefined"
      ]
     },
     "execution_count": 6,
     "metadata": {},
     "output_type": "execute_result"
    }
   ],
   "source": [
    "var fondue = require('fondue')"
   ]
  },
  {
   "cell_type": "code",
   "execution_count": 12,
   "metadata": {
    "collapsed": false,
    "scrolled": false
   },
   "outputs": [
    {
     "name": "stdout",
     "output_type": "stream",
     "text": [
      "/*\n",
      "The following code has been modified by fondue to collect information about its\n",
      "execution.\n",
      "\n",
      "https://github.com/adobe-research/fondue\n",
      "*/\n",
      "\n",
      "if (typeof __tracer === 'undefined') {\n",
      "\t__tracer = {};\n",
      "\tvar methods = [\"add\", \"addSourceMap\", \"traceFileEntry\", \"traceFileExit\", \"setGlobal\", \"traceFunCreate\", \"traceEnter\", \"traceExit\", \"traceReturnValue\", \"traceExceptionThrown\", \"bailThisTick\", \"pushEpoch\", \"popEpoch\", \"augmentjQuery\", \"version\", \"connect\", \"nodes\", \"trackNodes\", \"untrackNodes\", \"newNodes\", \"trackHits\", \"trackExceptions\", \"trackLogs\", \"trackEpochs\", \"untrackEpochs\", \"trackFileCallGraph\", \"untrackFileCallGraph\", \"fileCallGraphDelta\", \"hitCountDeltas\", \"newExceptions\", \"epochDelta\", \"logCount\", \"logDelta\", \"backtrace\"];\n",
      "\tfor (var i = 0; i < methods.length; i++) {\n",
      "\t\t__tracer[methods[i]] = function () { return arguments[0] };\n",
      "\t}\n",
      "\n",
      "\t__tracer.traceFunCall = function (info) {\n",
      "\t\tvar customThis = false, fthis, func;\n",
      "\n",
      "\t\tif ('func' in info) {\n",
      "\t\t\tfunc = info.func;\n",
      "\t\t} else {\n",
      "\t\t\tcustomThis = true;\n",
      "\t\t\tfthis = info.this;\n",
      "\t\t\tfunc = fthis[info.property];\n",
      "\t\t}\n",
      "\n",
      "\t\treturn function () {\n",
      "\t\t\treturn func.apply(customThis ? fthis : this, arguments);\n",
      "\t\t};\n",
      "\t};\n",
      "\n",
      "\t__tracer.Array = Array;\n",
      "}\n",
      "__tracer.add(\"<anonymous>\", {\"nodes\":[{\"path\":\"<anonymous>\",\"start\":{\"line\":1,\"column\":29},\"end\":{\"line\":1,\"column\":43},\"id\":\"<anonymous>-callsite-1-29-1-43\",\"type\":\"callsite\",\"name\":\"console.log\",\"nameStart\":{\"line\":1,\"column\":37},\"nameEnd\":{\"line\":1,\"column\":40}},{\"path\":\"<anonymous>\",\"start\":{\"line\":1,\"column\":0},\"end\":{\"line\":1,\"column\":44},\"id\":\"<anonymous>-toplevel-1-0-1-44\",\"type\":\"toplevel\",\"name\":\"(<anonymous> toplevel)\"}]});\n",
      "\n",
      "__tracer.traceFileEntry({\"nodeId\":\"<anonymous>-toplevel-1-0-1-44\"});\n",
      "try {\n",
      "for(var i = 0; i < 100; i++){ __tracer.traceFunCall({ this: console, property: \"log\", nodeId: \"<anonymous>-callsite-1-29-1-43\", vars: {} })(i);}\n",
      "} finally {\n",
      "__tracer.traceFileExit({\"nodeId\":\"<anonymous>-toplevel-1-0-1-44\"});\n",
      "}\n"
     ]
    },
    {
     "data": {
      "text/html": [
       "<pre>undefined</pre>"
      ],
      "text/plain": [
       "undefined"
      ]
     },
     "execution_count": 12,
     "metadata": {},
     "output_type": "execute_result"
    }
   ],
   "source": [
    "console.log(fondue.instrument(\"for(var i = 0; i < 100; i++){console.log(i)}\", {include_prefix: false}).toString())"
   ]
  },
  {
   "cell_type": "code",
   "execution_count": 13,
   "metadata": {
    "collapsed": false
   },
   "outputs": [
    {
     "data": {
      "text/html": [
       "<pre>undefined</pre>"
      ],
      "text/plain": [
       "undefined"
      ]
     },
     "execution_count": 13,
     "metadata": {},
     "output_type": "execute_result"
    }
   ],
   "source": [
    "var eselector = require('esprima-selector');\n"
   ]
  },
  {
   "cell_type": "code",
   "execution_count": 14,
   "metadata": {
    "collapsed": false
   },
   "outputs": [
    {
     "data": {
      "text/html": [
       "<pre>undefined</pre>"
      ],
      "text/plain": [
       "undefined"
      ]
     },
     "execution_count": 14,
     "metadata": {},
     "output_type": "execute_result"
    }
   ],
   "source": [
    "var falafel = require('falafel')"
   ]
  },
  {
   "cell_type": "code",
   "execution_count": 62,
   "metadata": {
    "collapsed": false
   },
   "outputs": [
    {
     "name": "stdout",
     "output_type": "stream",
     "text": [
      "{\n",
      "            \n",
      "        }\n",
      "{\n",
      "        console.log(derp)\n",
      "        function blah(){\n",
      "            \n",
      "        }\n",
      "    }\n"
     ]
    },
    {
     "data": {
      "text/html": [
       "<pre>undefined</pre>"
      ],
      "text/plain": [
       "undefined"
      ]
     },
     "execution_count": 62,
     "metadata": {},
     "output_type": "execute_result"
    }
   ],
   "source": [
    "var falafel = require('falafel');\n",
    " \n",
    "var src = '(' + function () {\n",
    "    var xs = [ 1, 2, [ 3, 4 ] ];\n",
    "    var ys = [ 5, 6 ];\n",
    "    console.dir([ xs, ys ]);\n",
    "    for(var i = 0; i < 100; i++){\n",
    "        console.log(i)\n",
    "    }\n",
    "    ;[1,2,3,4,5,6,7].forEach(function(derp, flerp){\n",
    "        console.log(derp)\n",
    "        function blah(){\n",
    "            \n",
    "        }\n",
    "    }).map(function(asdf){\n",
    "    })\n",
    "} + ')()';\n",
    " \n",
    "var output = falafel(src, function (node) {\n",
    "    if (node.type === 'ArrayExpression') {\n",
    "//         node.update('fn(' + node.source() + ')');\n",
    "    }else if(node.type === 'ForStatement'){\n",
    "//         console.log(node)\n",
    "//         node.update()\n",
    "//         console.log(node.update)\n",
    "        node.update.update(node.update.source() + ', merp()')\n",
    "    }else if(node.type === 'MemberExpression' && node.property.name == 'forEach'){ // TODO: support map\n",
    "//         console.dir(node.parent.arguments[0].body)\n",
    "        falafel(node.parent.source(), function(nodeception){\n",
    "//             console.log(nodeception)\n",
    "            if(nodeception.type == 'BlockStatement'){\n",
    "                console.log(nodeception.source())\n",
    "            }\n",
    "        })\n",
    "    }\n",
    "});\n",
    "// console.log(output);"
   ]
  },
  {
   "cell_type": "code",
   "execution_count": null,
   "metadata": {
    "collapsed": true
   },
   "outputs": [],
   "source": []
  }
 ],
 "metadata": {
  "kernelspec": {
   "display_name": "Javascript (Node.js)",
   "language": "javascript",
   "name": "javascript"
  },
  "language_info": {
   "file_extension": "js",
   "mimetype": "application/javascript",
   "name": "javascript",
   "version": "1.0.3"
  }
 },
 "nbformat": 4,
 "nbformat_minor": 0
}
