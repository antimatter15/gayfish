{
 "cells": [
  {
   "cell_type": "code",
   "execution_count": 37,
   "metadata": {
    "collapsed": false
   },
   "outputs": [
    {
     "name": "stdout",
     "output_type": "stream",
     "text": [
      "var n = 500, k = 1;\n",
      "for (var i = 0; i < 100; i++) {\n",
      "    k = k / 2 * (3 - n * k * k);\n",
      "    log(5);\n",
      "    log(blah);\n",
      "}\n"
     ]
    },
    {
     "data": {
      "text/html": [
       "<pre>undefined</pre>"
      ],
      "text/plain": [
       "undefined"
      ]
     },
     "execution_count": 37,
     "metadata": {},
     "output_type": "execute_result"
    }
   ],
   "source": [
    "var acorn = require('acorn')\n",
    "\n",
    "acorn.tokTypes.YALP = new acorn.TokenType(\"YALP\")\n",
    "\n",
    "acorn.plugins.yalp = function(instance){\n",
    "\n",
    "instance.extend(\"parseExpression\", function(inner) {\n",
    "    return function(noIn, refShorthandDefaultPos){\n",
    "\t var startPos = this.start, startLoc = this.startLoc\n",
    "     var thing = inner.call(this);\n",
    "      if(this.eat(acorn.tokTypes.YALP)){\n",
    "//           console.log('YAWLP', this, thing)\n",
    "          var node = this.startNodeAt(startPos, startLoc)\n",
    "          node.arguments = [thing]\n",
    "          var clog = this.startNode()\n",
    "          clog.name = \"log\"\n",
    "          node.callee = this.finishNode(clog, \"Identifier\")\n",
    "          return this.finishNode(node, \"CallExpression\")\n",
    "      }\n",
    "        return thing\n",
    "  };\n",
    "});    \n",
    "    instance.extend(\"readToken\", function(inner){\n",
    "        return function(code){\n",
    "            var context = this.curContext();\n",
    "            if(code == 33){ // !\n",
    "                ++this.pos;\n",
    "                return this.finishToken(acorn.tokTypes.YALP)\n",
    "            }\n",
    "            return inner.call(this, code)\n",
    "        }\n",
    "    })\n",
    "}\n",
    "\n",
    "var comments = [], tokens = [];\n",
    "var escodegen = require('escodegen')\n",
    "var ast = acorn.parse(`\n",
    "var n = 500, k = 1;\n",
    "for(var i = 0; i < 100; i++){\n",
    "\tk = k / 2 * (3 - n * k * k)\n",
    "    5!\n",
    "    blah!\n",
    "}\n",
    "`, {\n",
    "    plugins: {\n",
    "        yalp: true\n",
    "    },\n",
    "       ranges: true,\n",
    "    // collect comments in Esprima's format\n",
    "    onComment: comments,\n",
    "    // collect token ranges\n",
    "    onToken: tokens\n",
    "})\n",
    "\n",
    "// attach comments using collected information\n",
    "escodegen.attachComments(ast, comments, tokens);\n",
    "// console.log(ast)\n",
    "// generate code\n",
    "console.log(escodegen.generate(ast, {comment: true}));"
   ]
  },
  {
   "cell_type": "code",
   "execution_count": 20,
   "metadata": {
    "collapsed": false
   },
   "outputs": [
    {
     "data": {
      "text/html": [
       "<pre>&#39;/Users/kevin/Projects/gayfish/experiment&#39;</pre>"
      ],
      "text/plain": [
       "'/Users/kevin/Projects/gayfish/experiment'"
      ]
     },
     "execution_count": 20,
     "metadata": {},
     "output_type": "execute_result"
    }
   ],
   "source": [
    "process.cwd()"
   ]
  },
  {
   "cell_type": "code",
   "execution_count": 26,
   "metadata": {
    "collapsed": false
   },
   "outputs": [
    {
     "data": {
      "text/html": [
       "<pre>7</pre>"
      ],
      "text/plain": [
       "7"
      ]
     },
     "execution_count": 26,
     "metadata": {},
     "output_type": "execute_result"
    }
   ],
   "source": [
    "module.paths.push('/Users/kevin/Projects/gayfish/experiment/node_modules')"
   ]
  },
  {
   "cell_type": "code",
   "execution_count": null,
   "metadata": {
    "collapsed": true
   },
   "outputs": [],
   "source": []
  }
 ],
 "metadata": {
  "kernelspec": {
   "display_name": "Javascript (Node.js)",
   "language": "javascript",
   "name": "javascript"
  },
  "language_info": {
   "file_extension": "js",
   "mimetype": "application/javascript",
   "name": "javascript",
   "version": "1.0.3"
  }
 },
 "nbformat": 4,
 "nbformat_minor": 0
}
