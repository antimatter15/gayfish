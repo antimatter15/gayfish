{
 "cells": [
  {
   "cell_type": "code",
   "execution_count": 8,
   "metadata": {
    "collapsed": false
   },
   "outputs": [
    {
     "data": {
      "text/html": [
       "<pre>undefined</pre>"
      ],
      "text/plain": [
       "undefined"
      ]
     },
     "execution_count": 8,
     "metadata": {},
     "output_type": "execute_result"
    }
   ],
   "source": [
    "var parse = require('acorn').parse;\n",
    "\n",
    "var objectKeys = Object.keys || function (obj) {\n",
    "    var keys = [];\n",
    "    for (var key in obj) keys.push(key);\n",
    "    return keys;\n",
    "};\n",
    "var forEach = function (xs, fn) {\n",
    "    if (xs.forEach) return xs.forEach(fn);\n",
    "    for (var i = 0; i < xs.length; i++) {\n",
    "        fn.call(xs, xs[i], i, xs);\n",
    "    }\n",
    "};\n",
    "\n",
    "var isArray = Array.isArray || function (xs) {\n",
    "    return Object.prototype.toString.call(xs) === '[object Array]';\n",
    "};\n",
    "\n",
    "function falafel(src, opts, fn) {\n",
    "    if (typeof opts === 'function') {\n",
    "        fn = opts;\n",
    "        opts = {};\n",
    "    }\n",
    "    if (typeof src === 'object') {\n",
    "        opts = src;\n",
    "        src = opts.source;\n",
    "        delete opts.source;\n",
    "    }\n",
    "    src = src === undefined ? opts.source : src;\n",
    "    if (typeof src !== 'string') src = String(src);\n",
    "    var ast = parse(src, opts);\n",
    "    \n",
    "    var result = {\n",
    "        chunks : src.split(''),\n",
    "        toString : function () { return result.chunks.join('') },\n",
    "        inspect : function () { return result.toString() }\n",
    "    };\n",
    "    var index = 0;\n",
    "    \n",
    "    (function walk (node, parent) {\n",
    "//         console.log(node.type, node.start)\n",
    "        insertHelpers(node, parent, result.chunks);\n",
    "        \n",
    "        forEach(objectKeys(node), function (key) {\n",
    "            if (key === 'parent') return;\n",
    "            \n",
    "            var child = node[key];\n",
    "            if (isArray(child)) {\n",
    "                forEach(child, function (c) {\n",
    "                    if (c && typeof c.type === 'string') {\n",
    "                        walk(c, node);\n",
    "                    }\n",
    "                });\n",
    "            }\n",
    "            else if (child && typeof child.type === 'string') {\n",
    "                walk(child, node);\n",
    "            }\n",
    "        });\n",
    "        fn(node);\n",
    "    })(ast, undefined);\n",
    "    \n",
    "    return result;\n",
    "};\n",
    " \n",
    "function insertHelpers (node, parent, chunks) {\n",
    "    node.parent = parent;\n",
    "    \n",
    "    node.source = function () {\n",
    "        return chunks.slice(node.start, node.end).join('');\n",
    "    };\n",
    "    \n",
    "    if (node.update && typeof node.update === 'object') {\n",
    "        var prev = node.update;\n",
    "        forEach(objectKeys(prev), function (key) {\n",
    "            update[key] = prev[key];\n",
    "        });\n",
    "        node.update = update;\n",
    "    }\n",
    "    else {\n",
    "        node.update = update;\n",
    "    }\n",
    "    \n",
    "    function update (s) {\n",
    "        chunks[node.start] = s;\n",
    "        for (var i = node.start + 1; i < node.end; i++) {\n",
    "            chunks[i] = '';\n",
    "        }\n",
    "    }\n",
    "}"
   ]
  },
  {
   "cell_type": "code",
   "execution_count": 54,
   "metadata": {
    "collapsed": false
   },
   "outputs": [
    {
     "name": "stdout",
     "output_type": "stream",
     "text": [
      "(function () {\n",
      "    function merp(a, b){\n",
      "        console.log(a / b)\n",
      "    }\n",
      "    var xs = [ 1, 2, [ 3, 4 ] ];\n",
      "    var ys = [ 5, 6 ];\n",
      "    console.dir([ xs, ys ]);\n",
      "    for(var i = 0; i < 100; i++, merp(i, 100)){\n",
      "        console.log(i)\n",
      "    }\n",
      "    ;[1,2,3,4,5,6,7].forEach(function(derp, flerp){ merp(arguments[1], arguments[2].length);\n",
      "        console.log(derp)\n",
      "        function blah(){\n",
      "            \n",
      "        }\n",
      "    }).map(function(asdf){ merp(arguments[1], arguments[2].length);\n",
      "    })\n",
      "})()\n"
     ]
    },
    {
     "data": {
      "text/html": [
       "<pre>undefined</pre>"
      ],
      "text/plain": [
       "undefined"
      ]
     },
     "execution_count": 54,
     "metadata": {},
     "output_type": "execute_result"
    }
   ],
   "source": [
    "var src = '(' + function () {\n",
    "    function merp(a, b){\n",
    "        console.log(a / b)\n",
    "    }\n",
    "    var xs = [ 1, 2, [ 3, 4 ] ];\n",
    "    var ys = [ 5, 6 ];\n",
    "    console.dir([ xs, ys ]);\n",
    "    for(var i = 0; i < 100; i++){\n",
    "        console.log(i)\n",
    "    }\n",
    "    ;[1,2,3,4,5,6,7].forEach(function(derp, flerp){\n",
    "        console.log(derp)\n",
    "        function blah(){\n",
    "            \n",
    "        }\n",
    "    }).map(function(asdf){\n",
    "    })\n",
    "} + ')()';\n",
    " -\n",
    "console.log(output);"
   ]
  },
  {
   "cell_type": "code",
   "execution_count": 60,
   "metadata": {
    "collapsed": false
   },
   "outputs": [
    {
     "data": {
      "text/html": [
       "<pre>for(var i = 0; i &lt; 100; i++, 0){}</pre>"
      ],
      "text/plain": [
       "for(var i = 0; i < 100; i++, 0){}"
      ]
     },
     "execution_count": 60,
     "metadata": {},
     "output_type": "execute_result"
    }
   ],
   "source": [
    "falafel(\"for(var i = 0; i < 100; i++, merp()){}\", function(node){\n",
    "                    if(node.type == 'CallExpression' &&\n",
    "                        node.callee.type == 'Identifier' &&\n",
    "                        node.callee.name == 'merp'){\n",
    "                        node.update('0')\n",
    "                    }\n",
    "                })"
   ]
  },
  {
   "cell_type": "code",
   "execution_count": null,
   "metadata": {
    "collapsed": true
   },
   "outputs": [],
   "source": []
  }
 ],
 "metadata": {
  "kernelspec": {
   "display_name": "Javascript (Node.js)",
   "language": "javascript",
   "name": "javascript"
  },
  "language_info": {
   "file_extension": "js",
   "mimetype": "application/javascript",
   "name": "javascript",
   "version": "1.0.3"
  }
 },
 "nbformat": 4,
 "nbformat_minor": 0
}
