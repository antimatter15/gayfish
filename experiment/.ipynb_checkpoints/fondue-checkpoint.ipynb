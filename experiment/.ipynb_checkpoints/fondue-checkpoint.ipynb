{
 "cells": [
  {
   "cell_type": "code",
   "execution_count": 3,
   "metadata": {
    "collapsed": false
   },
   "outputs": [
    {
     "ename": "Error",
     "evalue": "module.js:324\n    throw err;\n          ^\nCannot find module 'fondue'",
     "output_type": "error",
     "traceback": [
      "module.js:324",
      "    throw err;",
      "          ^",
      "Error: Cannot find module 'fondue'",
      "    at Function.Module._resolveFilename (module.js:322:15)",
      "    at Function.Module._load (module.js:264:25)",
      "    at Module.require (module.js:351:17)",
      "    at require (module.js:370:17)",
      "    at evalmachine.<anonymous>:1:14",
      "    at Object.exports.runInThisContext (vm.js:55:17)",
      "    at run ([eval]:180:19)",
      "    at onMessage ([eval]:63:41)",
      "    at process.emit (events.js:98:17)",
      "    at handleMessage (child_process.js:305:10)"
     ]
    }
   ],
   "source": [
    "var fondue = require('fondue')"
   ]
  },
  {
   "cell_type": "code",
   "execution_count": null,
   "metadata": {
    "collapsed": true
   },
   "outputs": [],
   "source": []
  }
 ],
 "metadata": {
  "kernelspec": {
   "display_name": "Javascript (Node.js)",
   "language": "javascript",
   "name": "javascript"
  },
  "language_info": {
   "file_extension": "js",
   "mimetype": "application/javascript",
   "name": "javascript",
   "version": "1.0.3"
  }
 },
 "nbformat": 4,
 "nbformat_minor": 0
}
