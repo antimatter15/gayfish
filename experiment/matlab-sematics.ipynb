{
 "cells": [
  {
   "cell_type": "code",
   "execution_count": 35,
   "metadata": {
    "collapsed": false
   },
   "outputs": [
    {
     "name": "stdout",
     "output_type": "stream",
     "text": [
      "{ start: 0,\n",
      "  range: [ 0, 125 ],\n",
      "  body: \n",
      "   [ { start: 1,\n",
      "       range: [Object],\n",
      "       declarations: [Object],\n",
      "       kind: 'var',\n",
      "       type: 'VariableDeclaration',\n",
      "       end: 20 },\n",
      "     { start: 21,\n",
      "       range: [Object],\n",
      "       init: [Object],\n",
      "       test: [Object],\n",
      "       update: [Object],\n",
      "       body: [Object],\n",
      "       type: 'ForStatement',\n",
      "       end: 124 } ],\n",
      "  type: 'Program',\n",
      "  end: 125 }\n",
      "var n = 500, k = 1;\n",
      "for (var i = 0; i < 100; i++) {\n",
      "    LOG(k = k / 2 * (3 - n * k * k));\n",
      "    2 + 2;\n",
      "    4 + 4;\n",
      "    LOG(blah(42));\n",
      "    merp(32);\n",
      "}\n"
     ]
    },
    {
     "data": {
      "text/html": [
       "<pre>undefined</pre>"
      ],
      "text/plain": [
       "undefined"
      ]
     },
     "execution_count": 35,
     "metadata": {},
     "output_type": "execute_result"
    }
   ],
   "source": [
    "var acorn = require('acorn')\n",
    "var escodegen = require('escodegen')\n",
    "var babel = require('babel')\n",
    "acorn.plugins.matlab = function(instance){\n",
    "    instance.extend(\"parseExpressionStatement\", function(inner){\n",
    "        return function(node, expr){\n",
    "              node.expression = expr\n",
    "              if(!this.eat(acorn.tokTypes.semi)){\n",
    "                  if(this.canInsertSemicolon()){\n",
    "                      var cLog = this.startNode()\n",
    "                      cLog.name = \"LOG\"\n",
    "                      var Ludacris = this.startNode()\n",
    "                      Ludacris.arguments = [expr]\n",
    "                      Ludacris.callee = this.finishNode(cLog, \"Identifier\")\n",
    "                      node.expression = this.finishNode(Ludacris, \"CallExpression\")\n",
    "                      \n",
    "                  }else{\n",
    "                      this.unexpected()\n",
    "                  }\n",
    "              }\n",
    "              return this.finishNode(node, \"ExpressionStatement\")\n",
    "        }\n",
    "    })\n",
    "}\n",
    "var comments = [], tokens = [];\n",
    "var source = `\n",
    "var n = 500, k = 1;\n",
    "for(var i = 0; i < 100; i++){\n",
    "\tk = k / 2 * (3 - n * k * k)\n",
    "\t2 + 2;\n",
    "\t4 + 4;\n",
    "    blah(42)\n",
    "    merp(32);\n",
    "}\n",
    "`\n",
    "var ast = acorn.parse(source, {\n",
    "    plugins: {\n",
    "        matlab: true\n",
    "    },\n",
    "   ranges: true,\n",
    "    // collect comments in Esprima's format\n",
    "    onComment: comments,\n",
    "    // collect token ranges\n",
    "    onToken: tokens\n",
    "})\n",
    "console.log(ast)\n",
    "escodegen.attachComments(ast, comments, tokens);\n",
    "console.log(escodegen.generate(ast, {comment: true}));\n"
   ]
  },
  {
   "cell_type": "code",
   "execution_count": 2,
   "metadata": {
    "collapsed": false
   },
   "outputs": [
    {
     "data": {
      "text/html": [
       "<pre>7</pre>"
      ],
      "text/plain": [
       "7"
      ]
     },
     "execution_count": 2,
     "metadata": {},
     "output_type": "execute_result"
    }
   ],
   "source": [
    "module.paths.push('/Users/kevin/Projects/gayfish/experiment/node_modules')"
   ]
  },
  {
   "cell_type": "code",
   "execution_count": 42,
   "metadata": {
    "collapsed": false
   },
   "outputs": [
    {
     "name": "stdout",
     "output_type": "stream",
     "text": [
      "\"use strict\";\n",
      "\n",
      "var n = 500,\n",
      "    k = 1;for (var i = 0; i < 100; i++) {\n",
      "\tLOG(k = k / 2 * (3 - n * k * k));2 + 2;4 + 4;LOG(blah(42));merp(32);\n",
      "}\n"
     ]
    },
    {
     "data": {
      "text/html": [
       "<pre>undefined</pre>"
      ],
      "text/plain": [
       "undefined"
      ]
     },
     "execution_count": 42,
     "metadata": {},
     "output_type": "execute_result"
    }
   ],
   "source": [
    "console.log(babel.transform.fromAst(ast, source, {}).code)"
   ]
  },
  {
   "cell_type": "code",
   "execution_count": 41,
   "metadata": {
    "collapsed": false
   },
   "outputs": [
    {
     "name": "stdout",
     "output_type": "stream",
     "text": [
      "\"use strict\";\n",
      "\n",
      "var n = 500,\n",
      "    k = 1;for (var i = 0; i < 100; i++) {\n",
      "  LOG(k = k / 2 * (3 - n * k * k));2 + 2;4 + 4;LOG(blah(42));merp(32);\n",
      "}\n"
     ]
    },
    {
     "data": {
      "text/html": [
       "<pre>undefined</pre>"
      ],
      "text/plain": [
       "undefined"
      ]
     },
     "execution_count": 41,
     "metadata": {},
     "output_type": "execute_result"
    }
   ],
   "source": [
    "console.log(babel.transform. fromAst (ast).code)"
   ]
  },
  {
   "cell_type": "code",
   "execution_count": 44,
   "metadata": {
    "collapsed": false
   },
   "outputs": [
    {
     "data": {
      "text/html": [
       "<pre>[Function: transformFromAst]</pre>"
      ],
      "text/plain": [
       "[Function: transformFromAst]"
      ]
     },
     "execution_count": 44,
     "metadata": {},
     "output_type": "execute_result"
    }
   ],
   "source": [
    "babel.transform.pipeline.transformFromAst "
   ]
  },
  {
   "cell_type": "code",
   "execution_count": 34,
   "metadata": {
    "collapsed": false
   },
   "outputs": [
    {
     "data": {
      "text/html": [
       "<pre>[Function]</pre>"
      ],
      "text/plain": [
       "[Function]"
      ]
     },
     "execution_count": 34,
     "metadata": {},
     "output_type": "execute_result"
    }
   ],
   "source": [
    "var babelParse = require('babel-core/lib/babel/helpers/parse.js')\n",
    "babelParse"
   ]
  },
  {
   "cell_type": "code",
   "execution_count": null,
   "metadata": {
    "collapsed": true
   },
   "outputs": [],
   "source": []
  }
 ],
 "metadata": {
  "kernelspec": {
   "display_name": "Javascript (Node.js)",
   "language": "javascript",
   "name": "javascript"
  },
  "language_info": {
   "file_extension": "js",
   "mimetype": "application/javascript",
   "name": "javascript",
   "version": "1.0.3"
  }
 },
 "nbformat": 4,
 "nbformat_minor": 0
}
